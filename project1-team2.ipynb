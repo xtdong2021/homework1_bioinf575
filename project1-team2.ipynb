{
 "cells": [
  {
   "cell_type": "markdown",
   "id": "e5db7d67",
   "metadata": {},
   "source": [
    "# Project 1 - Team 2\n",
    "\n",
    "## Xiaotao Dong, Kelly Mayhew, Exequiel Punzalan, Di Wang\n",
    "\n",
    "### Project 1 - Drug annotation of 23andme report (instructions copied from Canvas, delete later)\n",
    "\n",
    "23andme provides the raw data regarding variants in a tab separated file.\n",
    "\n",
    "Examples of 23andme files are available at:\n",
    "\n",
    "https://github.com/arrogantrobot/23andme2vcf (Links to an external site.)\n",
    "\n",
    " \n",
    "For this project use: 23andme_v5_hg19_ref.txt.gz from the above link.\n",
    "\n",
    "The columns in this file are the following:\n",
    "\n",
    "`CHR, POS, dbSNP_ID, ALLELE`\n",
    " \n",
    "\n",
    "Details about the format can be found at:\n",
    "\n",
    "https://customercare.23andme.com/hc/en-us/articles/115004459928-Raw-Genotype-Data-Technical-Details (Links to an external site.)\n",
    "\n",
    "https://samtools.github.io/bcftools/howtos/convert.html (Links to an external site.)\n",
    " \n",
    "\n",
    "dbSNP_ID is the variant identifier in the database dbSNP (https://www.ncbi.nlm.nih.gov/snp/ (Links to an external site.)) when is available, or . , when is unavailable\n",
    " \n",
    "\n",
    "Based on the 23andme file, __detect variants with drug effects as provided by **PharmGKB**.__\n",
    "\n",
    "PharmGKB data is available at:\n",
    "\n",
    "https://www.pharmgkb.org/downloads (Links to an external site.)\n",
    "\n",
    " \n",
    "\n",
    "To connect the variants to the information available in the PharmGKB  data we need the **var_drug_ann.tsv** available at the above link in the **annotations.zip** archive.\n",
    "\n",
    " \n",
    "\n",
    "The **var_drug_ann.tsv** file contains the following information in a tab separated format:\n",
    "\n",
    "(Variant file description at: https://www.pharmgkb.org/page/downloadVariantAnnotationsHelp)\n",
    "\n",
    "(The file has a bad line 8140, handle the bad line (either fix it, manually, or skip it programatically, but only skip that line).\n",
    "\n",
    " \n",
    "```\n",
    "Annotation ID: unique ID number for each variant/drug annotation\n",
    "\n",
    "Variant: dbSNP ID or haplotype\n",
    "\n",
    "Gene: HGNC symbol (PharmGKB Accession ID)\n",
    "\n",
    "Chemical: Drug name (PharmGKB Accession ID)\n",
    "\n",
    "Literature ID: PMID - this is PubMed identifier\n",
    "\n",
    "Phenotype Category: options [efficacy, toxicity, dosage, metabolism/PK other]\n",
    "\n",
    "Significance: yes or no – determined by if the author stated the association was significant\n",
    "\n",
    "Notes: curator notes field\n",
    "\n",
    "Sentence: structured sentence\n",
    "\n",
    "StudyParameters: corresponds with the Study Parameters ID in the study_parameters.tsv file\n",
    "\n",
    "Alleles: variant alleles in annotation\n",
    "```\n",
    " \n",
    "\n",
    "1. Map/merge the 23andme file and the variant-drug annotation file based on dbSNP_ID (also known as rsID).\n",
    "\n",
    "The merged result should have the following columns:\n",
    "\n",
    "`dbSNP_ID, GENE_SYMBOL, DRUG_NAME, PMID, PHENOTYPE_CATEGORY, SIGNIFICANCE, NOTES, SENTENCE, ALLELE_PharmGKB (variant alleles in annotation), ALLELE_23andme (variant alleles in 23andme file)`\n",
    "\n",
    "\n",
    "2. Filter the output so that it only contains significant associations (SIGNIFICANCE is yes) for variants that affect the drug efficacy ('PHENOTYPE_CATEGORY' is 'efficacy').\n",
    "\n",
    " \n",
    "\n",
    "3. Save the output of the filtering step in a tab-separated file (23andme_PharmGKB_map.tsv) with the following columns:\n",
    "\n",
    "`dbSNP_ID, GENE_SYMBOL, DRUG_NAME, NOTES, SENTENCE, ALLELE_PharmGKB, ALLELE_23andme`\n",
    "\n",
    " \n",
    "\n",
    "4. Create a tab separated file with summarized data with the following columns:\n",
    "\n",
    "`GENE_SYMBOL, DRUG_NAME, and a list of dbSNP_IDs separated by \";\"`\n",
    "\n",
    " \n",
    "\n",
    "5. Plot the distribution of the number of drugs associated with a gene, and the number of SNPs for a gene. \n",
    "\n",
    "---------------\n",
    "\n",
    "Things to consider when designing and writing your solution:\n",
    "\n",
    "* break the code in small parts\n",
    "  * it can help you distribute the work among the group members\n",
    "  * it makes the code writing easier: the small parts are easier to understand and implement\n",
    "* make it self contained\n",
    "  * if any additional modules need to be imported/installed provide that information in the solution\n",
    "* document/comment your code\n",
    "  * provide instructions of how to run you code\n",
    "    * This can be provided in in Markdown cells towards the beginning of the notebook (after the answer to the questions)\n",
    "    * Or as docstrings towards the beginning of the script file (after the answer to the questions)\n",
    "* do not hardcode if it can be avoided\n",
    "* do not write redundant code\n",
    "* write functions and classes when applicable\n",
    "* keep it simple, do not to overly complicate the solution\n"
   ]
  },
  {
   "cell_type": "markdown",
   "id": "f19e7be9",
   "metadata": {},
   "source": [
    "One part of the solution is the code the team will write to compute the required output from the provided input.\n",
    "\n",
    "In addition, each team member has to provide an answer to the following three questions:\n",
    "1. What was your biggest challenge in this project? (regarding writing code and not only)\n",
    "2. What did you learn while working on this project? (regarding writing code and not only)\n",
    "3. If you had more time on the project what other question(s) would you like to answer? (at least one question is required)\n",
    "\n",
    "The answers written by each team member should be added in Markdown cells at the beginning of the notebook, or as docstrings at the beginning of the script file."
   ]
  },
  {
   "cell_type": "markdown",
   "id": "76c367fa",
   "metadata": {},
   "source": [
    "## Questions - Xiaotao Dong"
   ]
  },
  {
   "cell_type": "markdown",
   "id": "2b76ef7a",
   "metadata": {},
   "source": [
    "## Questions - Kelly Mayhew"
   ]
  },
  {
   "cell_type": "markdown",
   "id": "1f44d3af",
   "metadata": {},
   "source": [
    "## Questions - Exequiel Punzalan"
   ]
  },
  {
   "cell_type": "code",
   "execution_count": null,
   "id": "24ed73cf",
   "metadata": {},
   "outputs": [],
   "source": []
  },
  {
   "cell_type": "markdown",
   "id": "cc48ab99",
   "metadata": {},
   "source": [
    "## Questions - Di Wang"
   ]
  },
  {
   "cell_type": "markdown",
   "id": "89e4e4ee",
   "metadata": {},
   "source": [
    "## Problem Solution"
   ]
  },
  {
   "cell_type": "markdown",
   "id": "01c88bd7",
   "metadata": {},
   "source": [
    "### Part 1"
   ]
  },
  {
   "cell_type": "code",
   "execution_count": null,
   "id": "485bca55-08d3-44b3-9898-18a97ad8a89e",
   "metadata": {},
   "outputs": [],
   "source": [
    "#1. Map/merge the 23andme file and the variant-drug annotation file based on dbSNP_ID (also known as rsID).\n",
    "# The merged result should have the following columns:\n",
    "# dbSNP_ID, GENE_SYMBOL, DRUG_NAME, PMID, PHENOTYPE_CATEGORY, SIGNIFICANCE, NOTES, \n",
    "# SENTENCE, ALLELE_PharmGKB (variant alleles in annotation), ALLELE_23andme (variant alleles in 23andme file)\n",
    "\n",
    "variant_file = \"23andme_v5_hg19_ref.txt.gz\"\n",
    "annotation_file = \"var_drug_ann.tsv\"\n",
    "\n",
    "import numpy as np\n",
    "import pandas as pd\n",
    "import gzip\n",
    "def map_and_merge(gene_variants, drug_annotations):\n",
    "    \"\"\"\n",
    "    Read in two files (both tab-separated, one .tsv and one .txt.gz), and combine them into a pandas dataframe.\n",
    "    \n",
    "    @param gene_variants: a .txt.gz file of gene variants from 23andme\n",
    "    @param drug_annotations: a .tsv file of drug annotations\n",
    "    @return a pandas dataframe of merged gene variants and drug annotations\n",
    "    \"\"\"\n",
    "    \n",
    "    #Create gene variants dataframe\n",
    "    genecol=[\"CHR\",\"POS\",\"dbSNP_ID\",\"ALLELE_23andme\"]\n",
    "    with gzip.open(gene_variants) as file:\n",
    "        genes=pd.read_csv(file, sep=\"\\t\", names=genecol)\n",
    "    \n",
    "    #Create drug annotations dataframe\n",
    "    drugcol = [\"ANNOTATION_ID\",\"dbSNP_ID\",\"GENE_SYMBOL\",\"DRUG_NAME\",\"PMID\",\"PHENOTYPE_CATEGORY\",\"SIGNIFICANCE\",\\\n",
    "              \"NOTES\",\"SENTENCE\",\"ALLELE_PharmKGB\",\"STUDY_PARAMETERS\"]\n",
    "    drugs = pd.read_csv(drug_annotations, sep=\"\\t\", names=drugcol, skiprows=1, error_bad_lines=False)\n",
    "    \n",
    "    #Join results\n",
    "    merged_table = pd.merge(drugs, genes, on=\"dbSNP_ID\")\n",
    "    #Drop unwanted columns\n",
    "    merged_table = merged_table.drop([\"CHR\",\"POS\",\"ANNOTATION_ID\",\"STUDY_PARAMETERS\"], axis=1)\n",
    "    \n",
    "    return merged_table\n"
   ]
  },
  {
   "cell_type": "code",
   "execution_count": null,
   "id": "8373d651-0505-4ec5-9361-73a1f85cc1c1",
   "metadata": {},
   "outputs": [],
   "source": [
    "# TEST PART 1\n",
    "\n",
    "map_and_merge(variant_file, annotation_file)"
   ]
  },
  {
   "cell_type": "markdown",
   "id": "9a7a44f1",
   "metadata": {},
   "source": [
    "### Part 2"
   ]
  },
  {
   "cell_type": "code",
   "execution_count": null,
   "id": "8782a246-f629-4b35-8b3b-fcdd36ff49f2",
   "metadata": {},
   "outputs": [],
   "source": [
    "#2. Filter the output so that it only contains significant associations (SIGNIFICANCE is yes) for variants\n",
    "# that affect the drug efficacy ('PHENOTYPE_CATEGORY' is 'Efficacy').\n",
    "\n",
    "data = map_and_merge(variant_file, annotation_file)\n",
    "data[(data.SIGNIFICANCE == \"yes\") & (data.PHENOTYPE_CATEGORY == \"Efficacy\")]"
   ]
  },
  {
   "cell_type": "code",
   "execution_count": null,
   "id": "3d93397d-6991-4b78-a9c1-c28c9c7012c6",
   "metadata": {},
   "outputs": [],
   "source": [
    "# TEST PART 2\n",
    "\n",
    "testDat2 = pd.DataFrame([['rs5031016','CYP2A6','warfarin','22248286','Dosage','no','No association...','Allele G is not...'\\\n",
    "                         'G','A'],['rs496503','KCNT1','antiepileptics','24279416','Efficacy','no','No significant...'\\\n",
    "                        'Allele A is not...','A','G'],['rs1056515','RGS5','bevacizumab...','25069475','Efficacy','yes',\\\n",
    "                        'For specifically...','Genotype TT is...','TT','G']],\\\n",
    "                       columns=['dbSNP_ID','GENE_SYMBOL','DRUG_NAME','PMID','PHENOTYPE_CATEGORY','SIGNIFICANCE','NOTES',\\\n",
    "                               'SENTENCE','ALLELE_PharmKGB','ALLELE_23andme'])\n",
    "testDat2[(testDat2.SIGNIFICANCE == \"yes\") & (testDat2.PHENOTYPE_CATEGORY == \"Efficacy\")]"
   ]
  },
  {
   "cell_type": "markdown",
   "id": "0b74a889",
   "metadata": {},
   "source": [
    "### Part 3"
   ]
  },
  {
   "cell_type": "code",
   "execution_count": null,
   "id": "a1875d48",
   "metadata": {},
   "outputs": [],
   "source": [
    "#3. Save the output of the filtering step in a tab-separated file (23andme_PharmGKB_map.tsv) with the following columns:\n",
    "# dbSNP_ID, GENE_SYMBOL, DRUG_NAME, NOTES, SENTENCE, ALLELE_PharmGKB, ALLELE_23andme\n",
    "\n"
   ]
  },
  {
   "cell_type": "code",
   "execution_count": null,
   "id": "aab9b637",
   "metadata": {},
   "outputs": [],
   "source": [
    "# TEST PART 3\n",
    "\n",
    "testDat3 = pd.DataFrame([['rs1056515','RGS5','bevacizumab...','25069475','Efficacy','yes',\\\n",
    "                        'For specifically...','Genotype TT is...','TT','G'],['rs5031016','CYP2A6','warfarin','22248286',\\\n",
    "                        'Efficacy','yes','No association...','Allele G is not...','G','A']],\\\n",
    "                       columns=['dbSNP_ID','GENE_SYMBOL','DRUG_NAME','PMID','PHENOTYPE_CATEGORY','SIGNIFICANCE','NOTES',\\\n",
    "                               'SENTENCE','ALLELE_PharmKGB','ALLELE_23andme'])"
   ]
  },
  {
   "cell_type": "markdown",
   "id": "56ba8e9d",
   "metadata": {},
   "source": [
    "### Part 4"
   ]
  },
  {
   "cell_type": "code",
   "execution_count": null,
   "id": "70cc6505",
   "metadata": {},
   "outputs": [],
   "source": [
    "#4. Create a tab separated file with summarized data with the following columns:\n",
    "# GENE_SYMBOL, DRUG_NAME, and a list of dbSNP_IDs separated by \";\"\n",
    "\n"
   ]
  },
  {
   "cell_type": "code",
   "execution_count": null,
   "id": "375899ef",
   "metadata": {},
   "outputs": [],
   "source": [
    "# TEST PART 4\n",
    "\n",
    "testDat4 = pd.read_csv(\"testData4.tsv\", sep=\"\\t\")"
   ]
  },
  {
   "cell_type": "markdown",
   "id": "6b040108",
   "metadata": {},
   "source": [
    "### Part 5"
   ]
  },
  {
   "cell_type": "code",
   "execution_count": null,
   "id": "65529630",
   "metadata": {},
   "outputs": [],
   "source": [
    "#5. Plot the distribution of the number of drugs associated with a gene, and the number of SNPs for a gene.\n",
    "import matplotlib.pyplot as plt\n",
    "def plot_distribution(gene_symbol, df)\n",
    "    \"\"\"\n",
    "    INPUT\n",
    "        gene_symbol: gene symbol\n",
    "        df: DataFrame that contains gene in GENE_SYMBOL column\n",
    "    OUTPUT (to change)\n",
    "        plots distribution of number of drugs associated with a gene and saves to PNG file\n",
    "        plots number of SNPs for a gene and saves to PNG file \n",
    "    \"\"\"\n",
    "#     associated columns: GENE_SYMBOL, DRUG_NAME, dbSNP_ID: list of dbSNP_IDs separated by \";\"\n",
    "    gene_rows = df.loc[df[\"GENE_SYMBOL\"] == gene_symbol]\n",
    "    associated_drugs = df.loc[:,\"DRUG_NAME\"]\n",
    "    snp_ids = df.loc[:, \"dbSNP_ID\"].split(\";\") # check dtype in df\n",
    "    snp_number = len(snp_ids)\n",
    "    # plotting\n",
    "    "
   ]
  },
  {
   "cell_type": "code",
   "execution_count": null,
   "id": "f1972e8b",
   "metadata": {},
   "outputs": [],
   "source": [
    "# TEST PART 5\n",
    "\n",
    "#This test data is what I think you'd get from processing part 4's test data\n",
    "testDat5 = pd.DataFrame([['CYP2A6','warfarin','rs5031016'],['CYP2A6','nicotine','rs1128503;rs5031016'],['KCNMB2',\\\n",
    "             'ritodrine','rs7624046'],['ABCB1','fentanyl','rs1128503;rs1128366;rs1284621'],['ABCB1','warfarin',\\\n",
    "             'rs1128503;rs1284621'],['ABCB1','apixaban','rs1128503']],\\\n",
    "             columns=['GENE_SYMBOL','DRUG_NAME','dbSNP_IDs'])"
   ]
  },
  {
   "cell_type": "markdown",
   "id": "47f8439d",
   "metadata": {},
   "source": [
    "### Full Processing of Data (All functions run on data)"
   ]
  },
  {
   "cell_type": "code",
   "execution_count": null,
   "id": "274c1c28",
   "metadata": {},
   "outputs": [],
   "source": [
    "# Code to run all functions on data here\n",
    "\n",
    "# Part 1\n",
    "import numpy as np\n",
    "import pandas as pd\n",
    "import gzip\n",
    "variant_file = \"23andme_v5_hg19_ref.txt.gz\"\n",
    "annotation_file = \"var_drug_ann.tsv\"\n",
    "data = map_and_merge(variant_file, annotation_file)\n",
    "\n",
    "# Part 2\n",
    "data[(data.SIGNIFICANCE == \"yes\") & (data.PHENOTYPE_CATEGORY == \"Efficacy\")]\n",
    "\n",
    "# Part 3\n",
    "\n",
    "# Part 4\n",
    "\n",
    "# Part 5\n"
   ]
  }
 ],
 "metadata": {
  "kernelspec": {
   "display_name": "Python 3",
   "language": "python",
   "name": "python3"
  },
  "language_info": {
   "codemirror_mode": {
    "name": "ipython",
    "version": 3
   },
   "file_extension": ".py",
   "mimetype": "text/x-python",
   "name": "python",
   "nbconvert_exporter": "python",
   "pygments_lexer": "ipython3",
   "version": "3.8.8"
  },
  "toc": {
   "base_numbering": 1,
   "nav_menu": {},
   "number_sections": true,
   "sideBar": true,
   "skip_h1_title": false,
   "title_cell": "Table of Contents",
   "title_sidebar": "Contents",
   "toc_cell": false,
   "toc_position": {},
   "toc_section_display": true,
   "toc_window_display": false
  }
 },
 "nbformat": 4,
 "nbformat_minor": 5
}
